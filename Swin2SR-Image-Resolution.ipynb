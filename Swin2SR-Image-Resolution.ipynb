{
 "cells": [
  {
   "cell_type": "code",
   "execution_count": 32,
   "id": "f0bbfa79",
   "metadata": {},
   "outputs": [],
   "source": [
    "from PIL import Image\n",
    "from torchvision.transforms.functional import to_tensor\n",
    "from transformers import Swin2SRForImageSuperResolution, Swin2SRImageProcessor\n",
    "import torch\n",
    "import requests\n",
    "import numpy as np"
   ]
  },
  {
   "cell_type": "code",
   "execution_count": 24,
   "id": "708ff368",
   "metadata": {},
   "outputs": [
    {
     "data": {
      "application/vnd.jupyter.widget-view+json": {
       "model_id": "f3030c8b23234a07b9a433f94a87ee60",
       "version_major": 2,
       "version_minor": 0
      },
      "text/plain": [
       "Downloading (…)rocessor_config.json:   0%|          | 0.00/152 [00:00<?, ?B/s]"
      ]
     },
     "metadata": {},
     "output_type": "display_data"
    }
   ],
   "source": [
    "MODEL_NAME = \"caidas/swin2SR-classical-sr-x2-64\"\n",
    "model = Swin2SRForImageSuperResolution.from_pretrained(MODEL_NAME)\n",
    "processor = Swin2SRImageProcessor.from_pretrained(MODEL_NAME)"
   ]
  },
  {
   "cell_type": "code",
   "execution_count": 25,
   "id": "646a51e2",
   "metadata": {},
   "outputs": [],
   "source": [
    "url = \"butterfly.png\"\n",
    "image = Image.open(url)"
   ]
  },
  {
   "cell_type": "code",
   "execution_count": 26,
   "id": "4374f34e",
   "metadata": {},
   "outputs": [],
   "source": [
    "input_tensor = to_tensor(image)\n",
    "input_tensor = input_tensor.unsqueeze(0)"
   ]
  },
  {
   "cell_type": "code",
   "execution_count": 35,
   "id": "74e20192",
   "metadata": {},
   "outputs": [],
   "source": [
    "inputs = processor(images=input_tensor, return_tensors=\"pt\").pixel_values"
   ]
  },
  {
   "cell_type": "code",
   "execution_count": 37,
   "id": "1f686095",
   "metadata": {},
   "outputs": [],
   "source": [
    "with torch.no_grad():\n",
    "    outputs = model(inputs)"
   ]
  },
  {
   "cell_type": "code",
   "execution_count": 40,
   "id": "fb74071d",
   "metadata": {},
   "outputs": [],
   "source": [
    "output = outputs.reconstruction.squeeze().float().cpu().clamp_(0, 1).numpy()\n",
    "output = np.moveaxis(output, source=0, destination=-1)\n",
    "output = (output * 255.0).round().astype(np.uint8) \n",
    "output_image = Image.fromarray(output)\n",
    "output_image.show()"
   ]
  },
  {
   "cell_type": "code",
   "execution_count": null,
   "id": "8da0b7ff",
   "metadata": {},
   "outputs": [],
   "source": []
  }
 ],
 "metadata": {
  "kernelspec": {
   "display_name": "Python 3 (ipykernel)",
   "language": "python",
   "name": "python3"
  },
  "language_info": {
   "codemirror_mode": {
    "name": "ipython",
    "version": 3
   },
   "file_extension": ".py",
   "mimetype": "text/x-python",
   "name": "python",
   "nbconvert_exporter": "python",
   "pygments_lexer": "ipython3",
   "version": "3.11.2"
  }
 },
 "nbformat": 4,
 "nbformat_minor": 5
}
